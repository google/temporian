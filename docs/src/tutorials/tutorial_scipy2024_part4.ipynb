{
 "cells": [
  {
   "cell_type": "markdown",
   "id": "7a7aadd9-5fee-48d5-8231-2d38255af726",
   "metadata": {},
   "source": [
    "## Part 4: Deep Learning Forecasting"
   ]
  }
 ],
 "metadata": {
  "kernelspec": {
   "display_name": "Python 3 (ipykernel)",
   "language": "python",
   "name": "python3"
  },
  "language_info": {
   "codemirror_mode": {
    "name": "ipython",
    "version": 3
   },
   "file_extension": ".py",
   "mimetype": "text/x-python",
   "name": "python",
   "nbconvert_exporter": "python",
   "pygments_lexer": "ipython3",
   "version": "3.11.8"
  }
 },
 "nbformat": 4,
 "nbformat_minor": 5
}
