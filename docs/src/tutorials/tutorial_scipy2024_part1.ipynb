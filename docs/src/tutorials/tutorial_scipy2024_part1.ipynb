{
 "cells": [
  {
   "cell_type": "markdown",
   "id": "4c11a823-27a3-43a5-8b37-a0284a4a1cb5",
   "metadata": {},
   "source": [
    "# Part 1: Introduction"
   ]
  },
  {
   "cell_type": "markdown",
   "id": "3cbdb898-0bc2-4080-b441-3bb35e477a08",
   "metadata": {},
   "source": [
    "## Preparation"
   ]
  },
  {
   "cell_type": "code",
   "execution_count": 4,
   "id": "8cf311cf-99e6-4be3-a192-40ea2524d5be",
   "metadata": {},
   "outputs": [],
   "source": [
    "!pip install temporian pandas numpy \"matplotlib<3.9.0\" ydf seaborn matplotlib statsmodels statsforecast bokeh keras prophet sktime pmdarima hierarchicalforecast -q -U"
   ]
  },
  {
   "cell_type": "code",
   "execution_count": null,
   "id": "e39db004-353d-4db7-aefd-47df79aae01c",
   "metadata": {},
   "outputs": [],
   "source": [
    "Download datasets"
   ]
  }
 ],
 "metadata": {
  "kernelspec": {
   "display_name": "Python 3 (ipykernel)",
   "language": "python",
   "name": "python3"
  },
  "language_info": {
   "codemirror_mode": {
    "name": "ipython",
    "version": 3
   },
   "file_extension": ".py",
   "mimetype": "text/x-python",
   "name": "python",
   "nbconvert_exporter": "python",
   "pygments_lexer": "ipython3",
   "version": "3.11.8"
  }
 },
 "nbformat": 4,
 "nbformat_minor": 5
}
