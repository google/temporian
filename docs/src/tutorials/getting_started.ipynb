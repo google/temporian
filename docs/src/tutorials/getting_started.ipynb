{
 "cells": [
  {
   "attachments": {},
   "cell_type": "markdown",
   "id": "b8dd3ccc",
   "metadata": {},
   "source": [
    "# Getting Started with Temporian\n",
    "\n",
    "[![Open in Colab](https://colab.research.google.com/assets/colab-badge.svg)](https://colab.research.google.com/github/google/temporian/blob/last-release/docs/src/tutorials/toy_example.ipynb)"
   ]
  },
  {
   "attachments": {},
   "cell_type": "markdown",
   "id": "e649b5f1",
   "metadata": {},
   "source": [
    "## Setup"
   ]
  },
  {
   "cell_type": "code",
   "execution_count": null,
   "id": "3aebee14",
   "metadata": {
    "execution": {
     "iopub.execute_input": "2023-07-24T16:46:40.286416Z",
     "iopub.status.busy": "2023-07-24T16:46:40.285954Z",
     "iopub.status.idle": "2023-07-24T16:46:41.980090Z",
     "shell.execute_reply": "2023-07-24T16:46:41.979153Z"
    }
   },
   "outputs": [],
   "source": [
    "# Skip this cell if you are running the notebook locally and have already installed temporian.\n",
    "%pip install temporian -q"
   ]
  },
  {
   "cell_type": "code",
   "execution_count": null,
   "id": "c71dc843",
   "metadata": {},
   "outputs": [],
   "source": [
    "import temporian as tp\n",
    "\n",
    "import pandas as pd\n",
    "import numpy as np"
   ]
  },
  {
   "attachments": {},
   "cell_type": "markdown",
   "id": "18cc96f7",
   "metadata": {},
   "source": [
    "## Example Data\n",
    "\n",
    "This minimal data consists of just one `signal` with a `timestamp` for each sample.\n",
    "\n",
    "The signal is a periodic sinusoidal `season` with a slight positive slope in the long run, which we call `trend`. Plus the ubiquitous `noise`."
   ]
  },
  {
   "cell_type": "code",
   "execution_count": null,
   "id": "bb47d14c",
   "metadata": {},
   "outputs": [],
   "source": [
    "# Generate a synthetic dataset\n",
    "timestamps = np.arange(0, 100, 0.1)\n",
    "n = len(timestamps)\n",
    "noise = 0.1 * np.random.randn(n)\n",
    "trend = 0.01 * timestamps\n",
    "season = 0.4 * np.sin(0.5 * timestamps)\n",
    "\n",
    "raw_data = pd.DataFrame(\n",
    "    {\n",
    "        \"timestamp\": timestamps,\n",
    "        \"noise\": noise,\n",
    "        \"trend\": trend,\n",
    "        \"season\": season,\n",
    "        \"signal\": noise + trend + season,\n",
    "    }\n",
    ")\n",
    "\n",
    "raw_data"
   ]
  },
  {
   "attachments": {},
   "cell_type": "markdown",
   "id": "3f156949",
   "metadata": {},
   "source": [
    "## Part 1: Loading Data\n",
    "\n",
    "Any kind of signal is represented in Temporian as a **collection of events**, using the `EventSet` object.\n",
    "\n",
    "In this case there's no `indexes` because we only have one sequence.\n",
    "\n",
    "Indices could be useful if we had multiple signals in parallel.\n",
    "For example, imagine that we needed to work with signals from multiple sensor devices, or represent the sales from many stores or products: we could separate them by setting the correct features as indexes for each one."
   ]
  },
  {
   "cell_type": "code",
   "execution_count": null,
   "id": "b4a2782d",
   "metadata": {},
   "outputs": [],
   "source": [
    "# Convert the DataFrame into a Temporian EventSet\n",
    "signals_evset = tp.from_pandas(raw_data)\n",
    "\n",
    "signals_evset"
   ]
  },
  {
   "cell_type": "code",
   "execution_count": null,
   "id": "e0494b95",
   "metadata": {
    "execution": {
     "iopub.execute_input": "2023-07-24T16:46:43.111300Z",
     "iopub.status.busy": "2023-07-24T16:46:43.111082Z",
     "iopub.status.idle": "2023-07-24T16:46:43.915728Z",
     "shell.execute_reply": "2023-07-24T16:46:43.915211Z"
    }
   },
   "outputs": [],
   "source": [
    "# Plot the dataset\n",
    "_ = signals_evset.plot()"
   ]
  },
  {
   "attachments": {},
   "cell_type": "markdown",
   "id": "c0907814",
   "metadata": {},
   "source": [
    "**Note:** If you're wondering why the plot has an empty `()` in the title, it's because we have no `indexes`, as mentioned above."
   ]
  },
  {
   "attachments": {},
   "cell_type": "markdown",
   "id": "16d03112",
   "metadata": {},
   "source": [
    "## Part 2: Using Operators\n",
    "\n",
    "Now, we'll actually transform our temporal data using some operations:\n",
    "- Using a moving average with a large window, the long-term `trend` slope is captured (sinusoid and noise average should be close to 0).\n",
    "- The trend can be then subtracted from the original signal to get only the sinusoidal component `detrend`."
   ]
  },
  {
   "cell_type": "code",
   "execution_count": null,
   "id": "34498512",
   "metadata": {
    "execution": {
     "iopub.execute_input": "2023-07-24T16:46:43.918634Z",
     "iopub.status.busy": "2023-07-24T16:46:43.918403Z",
     "iopub.status.idle": "2023-07-24T16:46:44.032477Z",
     "shell.execute_reply": "2023-07-24T16:46:44.031965Z"
    }
   },
   "outputs": [],
   "source": [
    "signal = signals_evset[\"signal\"]\n",
    "trend = signal.simple_moving_average(tp.duration.minutes(1))\n",
    "trend.plot()"
   ]
  },
  {
   "cell_type": "code",
   "execution_count": null,
   "id": "8b16c4e8-d4c6-4e4b-897e-f43468c530e7",
   "metadata": {
    "execution": {
     "iopub.execute_input": "2023-07-24T16:46:44.035024Z",
     "iopub.status.busy": "2023-07-24T16:46:44.034839Z",
     "iopub.status.idle": "2023-07-24T16:46:44.148467Z",
     "shell.execute_reply": "2023-07-24T16:46:44.147980Z"
    }
   },
   "outputs": [],
   "source": [
    "detrend = signal - trend\n",
    "detrend.plot()"
   ]
  },
  {
   "attachments": {},
   "cell_type": "markdown",
   "id": "60c4015a-f704-466b-b158-d0203a968217",
   "metadata": {},
   "source": [
    "#### Feature naming\n",
    "Did you notice the resulting feature names in the y-axis of the plots?\n",
    "\n",
    "As you can see, the first moving average operation didn't change the feature name `signal` from the input, so `trend[\"signal\"]` is the only output feature at that point. However, after the subtract operation, the resulting feature name is `sub_signal_signal`, which seems kinda weird in this case.\n",
    "\n",
    "Actually, the naming criteria is not complicated, there are 2 rules:\n",
    "- If the operator expects one single input (e.g: `simple_moving_average`), the output is a new `EventSet` with the same feature names as the only input.\n",
    "- If the operator involves two inputs (e.g: arithmetics like `+-*/`), the output names are created by joining together the input feature names. For example, adding `evset[[\"f1\", \"f2\"]] + evset[[\"f3\", \"f4\"]]` results in a new `EventSet` with two features: `[\"add_f1_f3\", \"add_f2_f4\"]`. Note that features are always added together by position, not by name.\n",
    "\n",
    "So this name `sub_signal_signal` is the result of subtracting a feature named `signal` from another feature with the same name. We could have renamed the `trend[\"signal\"]` feature to something better, to avoid this duplication. Let's do it now.\n",
    "\n",
    "The `prefix()` operator might come handy to rename the `trend` feature. Check the output feature name in the plot."
   ]
  },
  {
   "cell_type": "code",
   "execution_count": null,
   "id": "198a1741-d707-481a-bd4a-a56bbabb56bb",
   "metadata": {
    "execution": {
     "iopub.execute_input": "2023-07-24T16:46:44.151258Z",
     "iopub.status.busy": "2023-07-24T16:46:44.151015Z",
     "iopub.status.idle": "2023-07-24T16:46:44.264517Z",
     "shell.execute_reply": "2023-07-24T16:46:44.264012Z"
    }
   },
   "outputs": [],
   "source": [
    "trend_prefix = trend.prefix(\"trend_\")\n",
    "trend_prefix.plot()"
   ]
  },
  {
   "attachments": {},
   "cell_type": "markdown",
   "id": "357c6842-2e26-4ba6-b68c-a9d0263324df",
   "metadata": {},
   "source": [
    "The `rename()` operator is also useful to avoid long feature names. Let's rename the `sub_signal_signal` feature to `detrend`:"
   ]
  },
  {
   "cell_type": "code",
   "execution_count": null,
   "id": "f252fba3-cbff-4d7f-9751-db1e2555457e",
   "metadata": {
    "execution": {
     "iopub.execute_input": "2023-07-24T16:46:44.267056Z",
     "iopub.status.busy": "2023-07-24T16:46:44.266866Z",
     "iopub.status.idle": "2023-07-24T16:46:44.379195Z",
     "shell.execute_reply": "2023-07-24T16:46:44.378757Z"
    }
   },
   "outputs": [],
   "source": [
    "detrend_rename = detrend.rename(\"detrend\")\n",
    "detrend_rename.plot()"
   ]
  },
  {
   "attachments": {},
   "cell_type": "markdown",
   "id": "ebc84239-7d71-4ef2-ae8b-490e0c85b564",
   "metadata": {},
   "source": [
    "### Selecting and combining features\n",
    "\n",
    "Features can be selected and combined to create new `EventSets` using two operations:\n",
    "1. **Select:** using `evset[\"feature_1\"]` or `evset[[\"feature_1\", \"feature_2\"]]` will return a new `EventSet` object with only one or two features respectively.\n",
    "1. **Glue:** using `tp.glue(evset_1, evset_2)` will return a new `EventSet` combining all features from both inputs. But the feature names cannot be repeated, so you may need to use `prefix()` or `rename()` before combining.\n",
    "\n",
    "Let's add some operations and then plot together everything:\n",
    "- The above de-trend process is repeated to refine the results in `trend2` and `detrend2`.\n",
    "- The `slope` of one of the signals is calculated, by subtracting a delayed version of itself. Note that the time axis for this plot is shifted."
   ]
  },
  {
   "cell_type": "code",
   "execution_count": null,
   "id": "d257c190-244c-49e1-927c-54c9b7ca3d50",
   "metadata": {
    "execution": {
     "iopub.execute_input": "2023-07-24T16:46:44.381886Z",
     "iopub.status.busy": "2023-07-24T16:46:44.381689Z",
     "iopub.status.idle": "2023-07-24T16:46:45.077475Z",
     "shell.execute_reply": "2023-07-24T16:46:45.076975Z"
    }
   },
   "outputs": [],
   "source": [
    "# Add some operations\n",
    "trend2 = detrend.simple_moving_average(25)  # duration in seconds\n",
    "detrend2 = detrend - trend2\n",
    "slope = trend2 - trend2.lag(20).resample(trend2)\n",
    "\n",
    "# Pack results to show all plots together\n",
    "result_evset = tp.glue(\n",
    "    signal,\n",
    "    trend.rename(\"trend1\"),\n",
    "    detrend.rename(\"detrend1\"),\n",
    "    trend2.rename(\"trend2\"),\n",
    "    detrend2.rename(\"detrend2\"),\n",
    "    slope.rename(\"slope\"),\n",
    ")\n",
    "result_evset.plot()"
   ]
  },
  {
   "attachments": {},
   "cell_type": "markdown",
   "id": "341071dc-ce64-4380-9559-6c4058fecf84",
   "metadata": {},
   "source": [
    "### Exporting outputs from Temporian\n",
    "You may need to use this data in different ways for downstream tasks, like training a model using whatever library you need. \n",
    "\n",
    "If you can't use the data directly from Temporian, you can always go back to a pandas DataFrame:"
   ]
  },
  {
   "cell_type": "code",
   "execution_count": null,
   "id": "1ef53eb7",
   "metadata": {
    "execution": {
     "iopub.execute_input": "2023-07-24T16:46:45.080636Z",
     "iopub.status.busy": "2023-07-24T16:46:45.080441Z",
     "iopub.status.idle": "2023-07-24T16:46:45.090089Z",
     "shell.execute_reply": "2023-07-24T16:46:45.089615Z"
    }
   },
   "outputs": [],
   "source": [
    "tp.to_pandas(result_evset)"
   ]
  },
  {
   "attachments": {},
   "cell_type": "markdown",
   "id": "de46f604-8d28-4d56-a83d-a13f1073b6b8",
   "metadata": {},
   "source": [
    "## Part 3: Using an index\n",
    "This is the final important concept to get from this introduction.\n",
    "\n",
    "Indexes are useful to handle multiple signals in parallel (as mentioned at the top of this notebook).\n",
    "For example, working with signals from multiple sensor devices or representing sales from many stores or products. The feature names may be exactly the same for all the data, but we need to separate them by setting the correct `index` for each one.\n",
    "\n",
    "### New example data: multiple devices\n",
    "Let's create two signals with overlapping timestamps, with a different `signal_id`:"
   ]
  },
  {
   "cell_type": "code",
   "execution_count": null,
   "id": "50093122-4039-452e-b92e-c0b1faaf9762",
   "metadata": {
    "execution": {
     "iopub.execute_input": "2023-07-24T16:46:45.092912Z",
     "iopub.status.busy": "2023-07-24T16:46:45.092527Z",
     "iopub.status.idle": "2023-07-24T16:46:45.105792Z",
     "shell.execute_reply": "2023-07-24T16:46:45.105346Z"
    }
   },
   "outputs": [],
   "source": [
    "# Reuse raw_data to create one with two signals with overlapping timestamps\n",
    "new_data = raw_data.copy()\n",
    "new_data[\"trend\"] *= 9\n",
    "new_data[\"signal\"] += new_data[\"trend\"]\n",
    "\n",
    "data_i1 = raw_data.copy()[:900]\n",
    "data_i2 = new_data.copy()[300:]\n",
    "data_i1[\"device_id\"] = \"Device 1\"\n",
    "data_i2[\"device_id\"] = \"Device 2\"\n",
    "data_2_devices = pd.concat([data_i1, data_i2])\n",
    "data_2_devices"
   ]
  },
  {
   "attachments": {},
   "cell_type": "markdown",
   "id": "90b86608-493f-46ba-8861-60a5a4b6557d",
   "metadata": {},
   "source": [
    "### EventSet with an index\n",
    "Let's convert the dataframe to a Temporian `EventSet`, but this time specifying `indexes`, and see if the string representation makes sense now:"
   ]
  },
  {
   "cell_type": "code",
   "execution_count": null,
   "id": "c7ba2e0d-0271-44c9-a82f-6ea64e898b77",
   "metadata": {
    "execution": {
     "iopub.execute_input": "2023-07-24T16:46:45.108219Z",
     "iopub.status.busy": "2023-07-24T16:46:45.108008Z",
     "iopub.status.idle": "2023-07-24T16:46:45.114823Z",
     "shell.execute_reply": "2023-07-24T16:46:45.114355Z"
    }
   },
   "outputs": [],
   "source": [
    "devices_evset = tp.from_pandas(data_2_devices, indexes=[\"device_id\"])\n",
    "devices_evset"
   ]
  },
  {
   "attachments": {},
   "cell_type": "markdown",
   "id": "adf60923-862c-4e37-83f4-5944be6edfff",
   "metadata": {},
   "source": [
    "As you can see above, each index has it's own timestamps and feature values. They will always have the same feature names though, because they're on the same `EventSet`.\n",
    "\n",
    "The plots also accommodate to show each index separately. In particular, see below how the timestamps are different and partly overlapping, and that's completely fine for separate indices. This wouldn't be possible by using different feature names for each sensor, for example."
   ]
  },
  {
   "cell_type": "code",
   "execution_count": null,
   "id": "5e3cc024-37c0-4dd4-8423-e3616b92313f",
   "metadata": {
    "execution": {
     "iopub.execute_input": "2023-07-24T16:46:45.117301Z",
     "iopub.status.busy": "2023-07-24T16:46:45.117124Z",
     "iopub.status.idle": "2023-07-24T16:46:45.389947Z",
     "shell.execute_reply": "2023-07-24T16:46:45.389467Z"
    }
   },
   "outputs": [],
   "source": [
    "devices_evset[\"signal\"].plot()"
   ]
  },
  {
   "attachments": {},
   "cell_type": "markdown",
   "id": "c0af6393-ea15-441c-a147-73e4993eca68",
   "metadata": {},
   "source": [
    "### Operations with index\n",
    "\n",
    "Any operator that we apply now must be aware of the `index` and will be performed over each one separately."
   ]
  },
  {
   "cell_type": "code",
   "execution_count": null,
   "id": "0ec8af3b-e0e2-4308-9300-5fbc1230508a",
   "metadata": {
    "execution": {
     "iopub.execute_input": "2023-07-24T16:46:45.392624Z",
     "iopub.status.busy": "2023-07-24T16:46:45.392425Z",
     "iopub.status.idle": "2023-07-24T16:46:45.921229Z",
     "shell.execute_reply": "2023-07-24T16:46:45.920711Z"
    }
   },
   "outputs": [],
   "source": [
    "signal_i = devices_evset[\"signal\"]\n",
    "trend_i = signal_i.simple_moving_average(tp.duration.seconds(20))\n",
    "detrend_i = signal_i - trend_i\n",
    "result_i = tp.glue(signal_i, detrend_i.rename(\"detrend\"))\n",
    "result_i.plot()"
   ]
  },
  {
   "attachments": {},
   "cell_type": "markdown",
   "id": "25dd9bf9-60d2-4702-9018-0f1b1f821f00",
   "metadata": {},
   "source": [
    "### Multi-indexes\n",
    "\n",
    "Finally, let's point out that multiple columns of the input data may be set as indexes.\n",
    "\n",
    "For example, in the case of sales in a store, we could use both the store and product columns to group the sequences. In this case, each group would contain the sales for a single product in a single store.\n",
    "\n",
    "This is easy to do since the `indexes` argument is actually a list of columns, and each group represented in Temporian by using a tuple `(store, product)` as the index key."
   ]
  },
  {
   "attachments": {},
   "cell_type": "markdown",
   "id": "f80c654a-06b6-4e69-a800-9663c41d7b79",
   "metadata": {},
   "source": [
    "## Summary\n",
    "\n",
    "Congratulations! You now have the basic concepts needed to create a data preprocessing pipeline with Temporian:\n",
    "- Defining an **EventSet** and using **operators** on it.\n",
    "- Combine **features** using **select** and **glue**.\n",
    "- Converting data back and forth between Temporian's **EventSet** and pandas **DataFrames**.\n",
    "- Visualizing input/output data using **EventSet.plot()**.\n",
    "- Using an **index** to separate signals in the graph operations and plots.\n",
    "\n",
    "### What's Missing and Next Steps\n",
    "\n",
    "There are important things we could not include in this introduction:\n",
    "\n",
    "- In this example we used a signal with uniform sampling (equal distance between event timestamps), but Temporian can handle non-uniform data just as easily. Read more about the data representation on the **[User Guide's introduction](https://temporian.readthedocs.io/en/latest/user_guide/)**.\n",
    "- Temporian is **strict on the feature types** when applying operations, to avoid potentially silent errors or memory issues. For example, you cannot perform binary operations (e.g: arithmetics or comparisons) between features with different types. Check the [User Guide's **casting** section](https://temporian.readthedocs.io/en/latest/user_guide/#casting) section to learn how to tackle those cases.\n",
    "- In this case, we only used seconds as the timestamps of the signal, but you might as well use calendar dates. Learn more about it on the [**Time Units** section of the User Guide](https://temporian.readthedocs.io/en/latest/user_guide/#time-units). After reading that section, check that there are many [**calendar operators**](https://temporian.readthedocs.io/en/stable/reference/temporian/operators/calendar/calendar_day_of_month/) available when working with date timestamps.\n",
    "- If you need to manipulate the timestamp of events, check the [User Guide's **sampling** section](https://temporian.readthedocs.io/en/latest/user_guide/#sampling) to learn more about this.\n",
    "- We only used moving average here, but there are a bunch of other [**moving window**](https://temporian.readthedocs.io/en/stable/reference/temporian/operators/window/moving_count/) operators, frequently useful for time sequences manipulation.\n",
    "\n",
    "Always keep in mind these resources:\n",
    "- Try the more advanced [**tutorials**](https://temporian.readthedocs.io/en/latest/tutorials/) to continue learning by example about all these topics and more!\n",
    "- We could only cover a small fraction of **[all available operators](https://temporian.readthedocs.io/en/stable/reference/temporian/operators/add_index/)**.\n",
    "- We put a lot of ❤️ in the **[User Guide](https://temporian.readthedocs.io/en/latest/user_guide/)**, so make sure to check it out 🙂."
   ]
  },
  {
   "cell_type": "code",
   "execution_count": null,
   "id": "73b77f3e-dcdf-4be0-9c15-c625cb4e297e",
   "metadata": {},
   "outputs": [],
   "source": []
  }
 ],
 "metadata": {
  "kernelspec": {
   "display_name": "Python 3 (ipykernel)",
   "language": "python",
   "name": "python3"
  },
  "language_info": {
   "codemirror_mode": {
    "name": "ipython",
    "version": 3
   },
   "file_extension": ".py",
   "mimetype": "text/x-python",
   "name": "python",
   "nbconvert_exporter": "python",
   "pygments_lexer": "ipython3",
   "version": "3.9.10"
  }
 },
 "nbformat": 4,
 "nbformat_minor": 5
}
